{
 "cells": [
  {
   "cell_type": "code",
   "execution_count": 1,
   "id": "36e4ccc2",
   "metadata": {},
   "outputs": [],
   "source": [
    "import pandas as pd\n",
    "import numpy as np\n",
    "import plotly.express as px\n",
    "from sklearn.impute import SimpleImputer\n",
    "from sklearn.pipeline import Pipeline\n",
    "from sklearn.preprocessing import StandardScaler\n",
    "from sklearn.compose import ColumnTransformer\n",
    "from sklearn.ensemble import IsolationForest\n",
    "from scipy.stats.mstats import winsorize"
   ]
  },
  {
   "cell_type": "code",
   "execution_count": null,
   "id": "f7277156",
   "metadata": {},
   "outputs": [],
   "source": [
    "# Charger les données (remplacez le chemin par le vôtre)\n",
    "data = pd.read_csv('votre_dataset.csv')"
   ]
  },
  {
   "cell_type": "code",
   "execution_count": null,
   "id": "3213c1bb",
   "metadata": {},
   "outputs": [],
   "source": [
    "# Définir les colonnes numériques et catégorielles\n",
    "numerical_features = data.select_dtypes(include=['float64', 'int64']).columns\n",
    "categorical_features = data.select_dtypes(include=['object']).columns\n",
    "\n",
    "# Créer le pipeline de traitement des données\n",
    "numeric_transformer = Pipeline(steps=[\n",
    "    ('imputer', SimpleImputer(strategy='mean')),\n",
    "    ('scaler', StandardScaler())\n",
    "])\n",
    "\n",
    "categorical_transformer = Pipeline(steps=[\n",
    "    ('imputer', SimpleImputer(strategy='most_frequent'))\n",
    "])\n",
    "\n",
    "preprocessor = ColumnTransformer(\n",
    "    transformers=[\n",
    "        ('num', numeric_transformer, numerical_features),\n",
    "        ('cat', categorical_transformer, categorical_features)\n",
    "    ])\n",
    "\n",
    "outlier_detector = IsolationForest(contamination=0.05)\n"
   ]
  },
  {
   "cell_type": "code",
   "execution_count": null,
   "id": "0b463721",
   "metadata": {},
   "outputs": [],
   "source": [
    "# Créer le pipeline complet\n",
    "pipeline = Pipeline(steps=[\n",
    "    ('preprocessor', preprocessor),\n",
    "    ('outlier_detector', outlier_detector)\n",
    "])"
   ]
  },
  {
   "cell_type": "code",
   "execution_count": null,
   "id": "c6f266df",
   "metadata": {},
   "outputs": [],
   "source": [
    "# Appliquer le pipeline sur les données\n",
    "processed_data = pipeline.fit_transform(data)\n",
    "\n",
    "# Méthode 1: Suppression des valeurs aberrantes\n",
    "data_no_outliers = data[(np.abs(processed_data[:, 0]) < 3) & (np.abs(processed_data[:, 1]) < 3)]\n",
    "\n",
    "# Méthode 2: Remplacement par la médiane\n",
    "data_median_replaced = data.copy()\n",
    "for feature in numerical_features:\n",
    "    median_val = data[feature].median()\n",
    "    data_median_replaced[feature] = np.where((processed_data[:, 0] - median_val).abs() > 3 * data[feature].std(), median_val, data[feature])\n",
    "\n",
    "# Méthode 3: Winsorization\n",
    "data_winsorized = data.copy()\n",
    "for feature in numerical_features:\n",
    "    data_winsorized[feature] = winsorize(data[feature], limits=[0.05, 0.05])\n",
    "\n",
    "# Créer un DataFrame avec les données traitées\n",
    "processed_df = pd.DataFrame(processed_data, columns=numerical_features)"
   ]
  },
  {
   "cell_type": "code",
   "execution_count": null,
   "id": "f59888b8",
   "metadata": {},
   "outputs": [],
   "source": [
    "# Utiliser Plotly pour créer un scatter plot interactif\n",
    "fig = px.scatter(processed_df, x=numerical_features[0], y=numerical_features[1], title='Scatter plot of processed data')\n",
    "fig.show()\n",
    "\n",
    "# Visualisation après traitement des valeurs aberrantes\n",
    "fig_no_outliers = px.scatter(data_no_outliers, x=numerical_features[0], y=numerical_features[1], title='Scatter plot after removing outliers')\n",
    "fig_median_replaced = px.scatter(data_median_replaced, x=numerical_features[0], y=numerical_features[1], title='Scatter plot after median replacement')\n",
    "fig_winsorized = px.scatter(data_winsorized, x=numerical_features[0], y=numerical_features[1], title='Scatter plot after winsorization')\n",
    "\n",
    "fig_no_outliers.show()\n",
    "fig_median_replaced.show()\n",
    "fig_winsorized.show()\n"
   ]
  }
 ],
 "metadata": {
  "kernelspec": {
   "display_name": "Python 3 (ipykernel)",
   "language": "python",
   "name": "python3"
  },
  "language_info": {
   "codemirror_mode": {
    "name": "ipython",
    "version": 3
   },
   "file_extension": ".py",
   "mimetype": "text/x-python",
   "name": "python",
   "nbconvert_exporter": "python",
   "pygments_lexer": "ipython3",
   "version": "3.11.5"
  }
 },
 "nbformat": 4,
 "nbformat_minor": 5
}
